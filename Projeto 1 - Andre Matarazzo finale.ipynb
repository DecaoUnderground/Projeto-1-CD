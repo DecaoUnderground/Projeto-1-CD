{
 "cells": [
  {
   "cell_type": "markdown",
   "metadata": {},
   "source": [
    "**André Matarazzo**"
   ]
  },
  {
   "cell_type": "markdown",
   "metadata": {},
   "source": [
    "**Projeto 1 - Comparação entre dados fornecidos pelo site World Bank**\n",
    "\n",
    "**IDH, GINI e Assassinatos por 100 mil pessoas**"
   ]
  },
  {
   "cell_type": "markdown",
   "metadata": {},
   "source": [
    "        O IDH é um dado comum usado para descrever cada país ao redor do mundo. No entanto, uma vez que este somente inclui  alguns fatores, muitas vezes o IDH pode se tornar impreciso e acaba por não retratar de forma verdadeira a realidade de  um país. Desta maneira, é benéfico comparar este índice com outras medidas, tais como a taxa de disparidade social (GINI) e a quantidade de assassinatos por 100 mil pessoas.\n"
   ]
  },
  {
   "cell_type": "markdown",
   "metadata": {},
   "source": [
    "Iniciando tal análise, uma pergunta pode ser levantada diante os dados analisados:\n",
    "\n",
    "\n",
    "\n",
    "    --> De forma geral, o IDH mascara a disparidade social e segurança de um país?\n",
    "\n"
   ]
  },
  {
   "cell_type": "markdown",
   "metadata": {},
   "source": [
    "Primeiro dado a ser analisado: IDH"
   ]
  },
  {
   "cell_type": "code",
   "execution_count": 58,
   "metadata": {},
   "outputs": [],
   "source": [
    "import pandas as pd\n",
    "import matplotlib.pyplot as plt\n",
    "import numpy as np\n",
    "\n",
    "HDI = pd.read_excel('hdi_human_development_index.xlsx')\n",
    "HDI_2005 = HDI.loc[:, [\"geo\", 2005]]\n",
    "HDI_final = HDI_2005.set_index('geo')"
   ]
  },
  {
   "cell_type": "markdown",
   "metadata": {},
   "source": [
    "Segundo dado: GINI"
   ]
  },
  {
   "cell_type": "code",
   "execution_count": 59,
   "metadata": {},
   "outputs": [],
   "source": [
    "GINI = pd.read_excel('inequality_index_gini.xlsx')\n",
    "GINI_2005 = GINI.loc[:, [\"geo\", 2005]]\n",
    "GINI_final = GINI_2005.set_index('geo')"
   ]
  },
  {
   "cell_type": "markdown",
   "metadata": {},
   "source": [
    "Terceiro dado: Assassinatos por 100 mil pessoas"
   ]
  },
  {
   "cell_type": "code",
   "execution_count": 60,
   "metadata": {},
   "outputs": [],
   "source": [
    "murders = pd.read_excel('murder_per_100000_people.xlsx')\n",
    "murders_2005 = murders.loc[:, [\"geo\", 2005]]\n",
    "murders_final = murders_2005.set_index('geo')"
   ]
  },
  {
   "cell_type": "markdown",
   "metadata": {},
   "source": [
    "Agora, para melhor comparar e analisar os dados utilizados, uma tabela comparativa foi feita."
   ]
  },
  {
   "cell_type": "code",
   "execution_count": 153,
   "metadata": {},
   "outputs": [
    {
     "data": {
      "text/html": [
       "<div>\n",
       "<style scoped>\n",
       "    .dataframe tbody tr th:only-of-type {\n",
       "        vertical-align: middle;\n",
       "    }\n",
       "\n",
       "    .dataframe tbody tr th {\n",
       "        vertical-align: top;\n",
       "    }\n",
       "\n",
       "    .dataframe thead th {\n",
       "        text-align: right;\n",
       "    }\n",
       "</style>\n",
       "<table border=\"1\" class=\"dataframe\">\n",
       "  <thead>\n",
       "    <tr style=\"text-align: right;\">\n",
       "      <th></th>\n",
       "      <th>2005_IDH</th>\n",
       "      <th>2005_GINI</th>\n",
       "      <th>2005</th>\n",
       "    </tr>\n",
       "    <tr>\n",
       "      <th>geo</th>\n",
       "      <th></th>\n",
       "      <th></th>\n",
       "      <th></th>\n",
       "    </tr>\n",
       "  </thead>\n",
       "  <tbody>\n",
       "    <tr>\n",
       "      <th>Rwanda</th>\n",
       "      <td>0.404</td>\n",
       "      <td>52.0</td>\n",
       "      <td>34.4</td>\n",
       "    </tr>\n",
       "    <tr>\n",
       "      <th>Uganda</th>\n",
       "      <td>0.434</td>\n",
       "      <td>42.9</td>\n",
       "      <td>38.9</td>\n",
       "    </tr>\n",
       "    <tr>\n",
       "      <th>Colombia</th>\n",
       "      <td>0.669</td>\n",
       "      <td>53.7</td>\n",
       "      <td>41.8</td>\n",
       "    </tr>\n",
       "    <tr>\n",
       "      <th>El Salvador</th>\n",
       "      <td>0.651</td>\n",
       "      <td>48.5</td>\n",
       "      <td>49.7</td>\n",
       "    </tr>\n",
       "    <tr>\n",
       "      <th>South Africa</th>\n",
       "      <td>0.609</td>\n",
       "      <td>64.8</td>\n",
       "      <td>70.8</td>\n",
       "    </tr>\n",
       "  </tbody>\n",
       "</table>\n",
       "</div>"
      ],
      "text/plain": [
       "              2005_IDH  2005_GINI  2005\n",
       "geo                                    \n",
       "Rwanda           0.404       52.0  34.4\n",
       "Uganda           0.434       42.9  38.9\n",
       "Colombia         0.669       53.7  41.8\n",
       "El Salvador      0.651       48.5  49.7\n",
       "South Africa     0.609       64.8  70.8"
      ]
     },
     "execution_count": 153,
     "metadata": {},
     "output_type": "execute_result"
    }
   ],
   "source": [
    "IDH_GINI = HDI_final.join(GINI_final, how='inner', lsuffix='_IDH', rsuffix='_GINI')\n",
    "GINI_murders = GINI_final.join(murders_final, how='inner', lsuffix='_GINI', rsuffix='_murders')\n",
    "IDH_murders = HDI_final.join(murders_final, how='inner', lsuffix='_GINI', rsuffix='_murders')\n",
    "IDH_GINI_murders = IDH_GINI.join(murders_final, how='inner')\n",
    "IDH_GINI_murders.sort_values(by=2005).dropna().tail()\n",
    "\n",
    "#A última coluna indica o dado de assassinatos por 100 mil pessoas"
   ]
  },
  {
   "cell_type": "markdown",
   "metadata": {},
   "source": [
    "Após uma primeira análise na tabela gerada, é possível iniciar o processo de entendimento comportamental dos dados, e como eles se relacionam entre si. Para a quantidade de dados acima (somente 5), não é possível visualizar de forma clara relações entre dados, somente inferir ideias básicas em relação ao crescimento mútuo dos dados. A Africa do Sul por exemplo, é o país não só com o maior número de assassinatos, mas também com o maior valor de GINI. Desta forma, é correto afirmar que este comportamento é padronizado por todos os países? A resposta vem em forma de gráfico, comparando todos os dados do GINI e de assassinatos de 2005."
   ]
  },
  {
   "cell_type": "code",
   "execution_count": 62,
   "metadata": {},
   "outputs": [
    {
     "data": {
      "text/plain": [
       "<matplotlib.axes._subplots.AxesSubplot at 0x26c083235c0>"
      ]
     },
     "execution_count": 62,
     "metadata": {},
     "output_type": "execute_result"
    },
    {
     "data": {
      "image/png": "[encoded data removed]",
      "text/plain": [
       "<matplotlib.figure.Figure at 0x26c083470f0>"
      ]
     },
     "metadata": {},
     "output_type": "display_data"
    }
   ],
   "source": [
    "IDH_GINI_murders.plot.scatter(y='2005_GINI', x=2005)"
   ]
  },
  {
   "cell_type": "markdown",
   "metadata": {},
   "source": [
    "A partir de uma análise a olho nu, o gráfico comprova a hipótese levantada acima, e aponta (por mais que não de forma tão precisa), uma relação entre número de assassinatos e o índice de disparidade social (GINI). Para \"matematizar\" tal comprovação e aumentar a confiabilidade do argumento proposto, é conveniente criar outros gráficos de análise, e julgar todos a partir do coeficiente de correlação de Pierson."
   ]
  },
  {
   "cell_type": "markdown",
   "metadata": {},
   "source": [
    "Para a mais rápida criação de gráficos com uma reta de ajuste (que nos sinaliza a relação entre os dados), uma função foi feita."
   ]
  },
  {
   "cell_type": "code",
   "execution_count": 63,
   "metadata": {},
   "outputs": [],
   "source": [
    "#para atingir essa função, foi consultado o material da aula 5, fornecido pelo professor.\n",
    "def scatter_line(dados, x, y):\n",
    "    \n",
    "\n",
    "    varianciaX = dados[x].var()\n",
    "    varianciaY = dados[y].var()\n",
    "\n",
    "    meanX = dados[x].mean()\n",
    "    meanY = dados[y].mean()\n",
    "    \n",
    "    m = dados[x].cov(dados[y]) / varianciaX\n",
    "    n = meanY - m*meanX\n",
    "\n",
    "    minimoX = dados[x].min()\n",
    "    maximoX = dados[x].max()\n",
    "\n",
    "    plt.scatter(dados[x], dados[y]) \n",
    "    plt.plot((minimoX, maximoX), (m*minimoX + n, m*maximoX + n), color='green')\n",
    "\n",
    "    plt.title('{0} versus {1}'.format(x, y))\n",
    "    plt.xlabel(x)\n",
    "    plt.ylabel(y)\n",
    "    \n",
    "    return m, n"
   ]
  },
  {
   "cell_type": "code",
   "execution_count": 64,
   "metadata": {},
   "outputs": [
    {
     "data": {
      "image/png": "[encoded data removed]",
      "text/plain": [
       "<matplotlib.figure.Figure at 0x26c0834ca90>"
      ]
     },
     "metadata": {},
     "output_type": "display_data"
    }
   ],
   "source": [
    "m, n = scatter_line(IDH_GINI_murders, y=\"2005_GINI\", x=2005)"
   ]
  },
  {
   "cell_type": "code",
   "execution_count": 151,
   "metadata": {},
   "outputs": [
    {
     "data": {
      "text/plain": [
       "<matplotlib.axes._subplots.AxesSubplot at 0x26c0703c128>"
      ]
     },
     "execution_count": 151,
     "metadata": {},
     "output_type": "execute_result"
    },
    {
     "data": {
      "image/png": "[encoded data removed]",
      "text/plain": [
       "<matplotlib.figure.Figure at 0x26c086b6b70>"
      ]
     },
     "metadata": {},
     "output_type": "display_data"
    }
   ],
   "source": [
    "GINI_murders.plot.box('2005_GINI')"
   ]
  },
  {
   "cell_type": "code",
   "execution_count": 152,
   "metadata": {},
   "outputs": [
    {
     "data": {
      "text/html": [
       "<div>\n",
       "<style scoped>\n",
       "    .dataframe tbody tr th:only-of-type {\n",
       "        vertical-align: middle;\n",
       "    }\n",
       "\n",
       "    .dataframe tbody tr th {\n",
       "        vertical-align: top;\n",
       "    }\n",
       "\n",
       "    .dataframe thead th {\n",
       "        text-align: right;\n",
       "    }\n",
       "</style>\n",
       "<table border=\"1\" class=\"dataframe\">\n",
       "  <thead>\n",
       "    <tr style=\"text-align: right;\">\n",
       "      <th></th>\n",
       "      <th>2005_murders</th>\n",
       "      <th>2005_GINI</th>\n",
       "    </tr>\n",
       "  </thead>\n",
       "  <tbody>\n",
       "    <tr>\n",
       "      <th>2005_murders</th>\n",
       "      <td>1.00000</td>\n",
       "      <td>0.67042</td>\n",
       "    </tr>\n",
       "    <tr>\n",
       "      <th>2005_GINI</th>\n",
       "      <td>0.67042</td>\n",
       "      <td>1.00000</td>\n",
       "    </tr>\n",
       "  </tbody>\n",
       "</table>\n",
       "</div>"
      ],
      "text/plain": [
       "              2005_murders  2005_GINI\n",
       "2005_murders       1.00000    0.67042\n",
       "2005_GINI          0.67042    1.00000"
      ]
     },
     "execution_count": 152,
     "metadata": {},
     "output_type": "execute_result"
    }
   ],
   "source": [
    "GINI_murders.loc[:, ['2005_murders', \"2005_GINI\"]].corr()"
   ]
  },
  {
   "cell_type": "markdown",
   "metadata": {},
   "source": [
    "Com um coeficiente de correlação de 0.67, a relação entre os dados pode ser considerada potencialmente padronizada a linha de tendência, onde o comportamento médio pode ser previsto de forma suficiente. O gráfico indica a presença de consideráveis outliers, porém por mais que estes afetem o coeficiente de correlação, seu efeito não é ainda prejudicial para a previsão de dados desejada pelo gráfico. Complementando pela análise do BoxPlot, é possível compreender a dispersão dos dados de cada categoria. Enquanto os dados do GINI são bem distribuídos e favorecem a construção do gráfico, os dados de assassinatos são fortemente assimétricos, com sua grande maioria no início. Assim sendo, se torna ainda mais explicável a presença de tantos pontos no início do gráfico, o que poderia potencialmente diminuir a precisão do coeficiente de correlação e do próprio gráfico em si. De forma geral, o relacionamento entre os dois fatores foi confirmado, mesmo que de forma não absoluta. "
   ]
  },
  {
   "cell_type": "markdown",
   "metadata": {},
   "source": [
    "Após relacionar dois dos três dados analisados, se torna necessário trazer o terceiro dado, e se reaproximar ao projeto com o objetivo de responder sua pergunta norteadora. Desta maneira, dois gráficos foram feitos com o novo dado (IDH), com cada coeficiente de correlação calculado."
   ]
  },
  {
   "cell_type": "markdown",
   "metadata": {},
   "source": [
    "Gráfico 1: IDH e GINI"
   ]
  },
  {
   "cell_type": "code",
   "execution_count": 66,
   "metadata": {},
   "outputs": [
    {
     "data": {
      "text/html": [
       "<div>\n",
       "<style scoped>\n",
       "    .dataframe tbody tr th:only-of-type {\n",
       "        vertical-align: middle;\n",
       "    }\n",
       "\n",
       "    .dataframe tbody tr th {\n",
       "        vertical-align: top;\n",
       "    }\n",
       "\n",
       "    .dataframe thead th {\n",
       "        text-align: right;\n",
       "    }\n",
       "</style>\n",
       "<table border=\"1\" class=\"dataframe\">\n",
       "  <thead>\n",
       "    <tr style=\"text-align: right;\">\n",
       "      <th></th>\n",
       "      <th>2005_IDH</th>\n",
       "      <th>2005_GINI</th>\n",
       "    </tr>\n",
       "  </thead>\n",
       "  <tbody>\n",
       "    <tr>\n",
       "      <th>2005_IDH</th>\n",
       "      <td>1.000000</td>\n",
       "      <td>-0.481672</td>\n",
       "    </tr>\n",
       "    <tr>\n",
       "      <th>2005_GINI</th>\n",
       "      <td>-0.481672</td>\n",
       "      <td>1.000000</td>\n",
       "    </tr>\n",
       "  </tbody>\n",
       "</table>\n",
       "</div>"
      ],
      "text/plain": [
       "           2005_IDH  2005_GINI\n",
       "2005_IDH   1.000000  -0.481672\n",
       "2005_GINI -0.481672   1.000000"
      ]
     },
     "execution_count": 66,
     "metadata": {},
     "output_type": "execute_result"
    },
    {
     "data": {
      "image/png": "[encoded data removed]",
      "text/plain": [
       "<matplotlib.figure.Figure at 0x26c0834ceb8>"
      ]
     },
     "metadata": {},
     "output_type": "display_data"
    }
   ],
   "source": [
    "m, n = scatter_line(IDH_GINI_murders, y=\"2005_GINI\", x='2005_IDH')\n",
    "IDH_GINI_murders.loc[:, ['2005_IDH', \"2005_GINI\"]].corr()"
   ]
  },
  {
   "cell_type": "markdown",
   "metadata": {},
   "source": [
    "Gráfico 2: IDH e Assassinatos por 100 mil pessoas"
   ]
  },
  {
   "cell_type": "code",
   "execution_count": 157,
   "metadata": {},
   "outputs": [
    {
     "data": {
      "text/html": [
       "<div>\n",
       "<style scoped>\n",
       "    .dataframe tbody tr th:only-of-type {\n",
       "        vertical-align: middle;\n",
       "    }\n",
       "\n",
       "    .dataframe tbody tr th {\n",
       "        vertical-align: top;\n",
       "    }\n",
       "\n",
       "    .dataframe thead th {\n",
       "        text-align: right;\n",
       "    }\n",
       "</style>\n",
       "<table border=\"1\" class=\"dataframe\">\n",
       "  <thead>\n",
       "    <tr style=\"text-align: right;\">\n",
       "      <th></th>\n",
       "      <th>2005_IDH</th>\n",
       "      <th>2005</th>\n",
       "    </tr>\n",
       "  </thead>\n",
       "  <tbody>\n",
       "    <tr>\n",
       "      <th>2005_IDH</th>\n",
       "      <td>1.000000</td>\n",
       "      <td>-0.597304</td>\n",
       "    </tr>\n",
       "    <tr>\n",
       "      <th>2005</th>\n",
       "      <td>-0.597304</td>\n",
       "      <td>1.000000</td>\n",
       "    </tr>\n",
       "  </tbody>\n",
       "</table>\n",
       "</div>"
      ],
      "text/plain": [
       "          2005_IDH      2005\n",
       "2005_IDH  1.000000 -0.597304\n",
       "2005     -0.597304  1.000000"
      ]
     },
     "execution_count": 157,
     "metadata": {},
     "output_type": "execute_result"
    },
    {
     "data": {
      "image/png": "[encoded data removed]",
      "text/plain": [
       "<matplotlib.figure.Figure at 0x26c089ea320>"
      ]
     },
     "metadata": {},
     "output_type": "display_data"
    }
   ],
   "source": [
    "m, n = scatter_line(IDH_GINI_murders, y=2005, x='2005_IDH')\n",
    "IDH_GINI_murders.loc[:, ['2005_IDH', 2005]].corr()\n",
    "\n",
    "#A segunda coluna abaixo refere-se aos assassinatos (2005_murders)"
   ]
  },
  {
   "cell_type": "markdown",
   "metadata": {},
   "source": [
    "   Diferente da primeira comparação feita, os dois gráficos não possuem um coeficiente de correlação suficiente, onde existe uma quantidade muito grande de outliers fora da linha desejada. Desta maneira, surge a dúvida: por mais que com uma relação não tão concreta e clara, ainda existe uma relação entre os dados em cada gráfico? \n"
   ]
  },
  {
   "cell_type": "markdown",
   "metadata": {},
   "source": [
    "O segundo gráfico está mais disperso, e não existe nenhuma aparente relação além daquela levantada pelo ajuste linear. Já o primeiro gráfico, com a remoção de certos outliers, um comportamento muito interessante pode ser analisado, qual é essencial para se aproximar a uma resposta da pergunta principal do trabalho."
   ]
  },
  {
   "cell_type": "code",
   "execution_count": 173,
   "metadata": {},
   "outputs": [
    {
     "data": {
      "image/png": "[encoded data removed]",
      "text/plain": [
       "<matplotlib.figure.Figure at 0x26c0849c940>"
      ]
     },
     "metadata": {},
     "output_type": "display_data"
    }
   ],
   "source": [
    "#Os valores de k & l abaixo não têm importância, e foram somente utilizados para ajudar na explicação.\n",
    "k = [0.15,0.3,0.35, 0.4,0.42, 0.45, 0.5, 0.55, 0.6, 0.65, 0.7, 0.75, 0.8, 0.85, 0.9, 0.95]\n",
    "l = [25,36,40, 43,44, 46, 48, 49, 49.5, 49, 47, 45, 42, 37, 32,26]\n",
    "\n",
    "def parabola(dados, x, y):\n",
    "    \n",
    "    plt.scatter(dados[x], dados[y]) \n",
    "    plt.plot(k, l)\n",
    "\n",
    "    plt.title('{0} versus {1}'.format(x, y))\n",
    "    plt.xlabel(x)\n",
    "    plt.ylabel(y)\n",
    "    \n",
    "    return m, n\n",
    "m, n = parabola(IDH_GINI_murders, y=\"2005_GINI\", x='2005_IDH')\n",
    "\n",
    "#Novamente, a parábola abaixo é meramente ilustrativa, com o intuito de facilitar a visualização do argumento explicado abaixo."
   ]
  },
  {
   "cell_type": "markdown",
   "metadata": {},
   "source": [
    "Se ao invés de uma linha de aproximação uma parábola de aproximação fosse gerada, o comportamento iria ser descrito de forma muito mais precisa, e um suposto coeficiente de correlação parabólico seria um número mais alto do que o atingido anteriormente (de 0.48). Desta forma, a relação entre o GINI e o IDH não é uma relação linear, mas sim parabólica, e que contém razões para tal. Em viés de uma análise mais profunda, os motivos para este comportamento se encaixa na resposta da própria pergunta norteadora, onde tal acontece devido ao exato \"mascaramento\" do IDH diante a disparidade social de um país."
   ]
  },
  {
   "cell_type": "markdown",
   "metadata": {},
   "source": [
    "Se aproximando a uma conclusão, é conveniente refazer a pergunta norteadora, para respondê-la a partir das análises feitas."
   ]
  },
  {
   "cell_type": "markdown",
   "metadata": {},
   "source": [
    "**De forma geral, o IDH mascara a disparidade social e segurança de um país?**"
   ]
  },
  {
   "cell_type": "markdown",
   "metadata": {},
   "source": [
    "A partir da análise dos dados, pode se concluir que o IDH mascara a disparidade social de um país, porém se mantêm potencialmente \"justo\" a sua segurança. Tal conclusão pode ser feita a partir do último gráfico demonstrado acima, onde a melhor descrição para o relacionamento entre IDH e GINI seria uma parábola. Conforme a disparidade social aumenta, o IDH não necessariamente diminui, mas aumenta até um ponto, e então começa a descer. Este comportamento, por mais que com um viés interpretativo, sugere o fato de que quando a disparidade social cresce muito, como é o caso da África do sul, o IDH não é capaz de perceber tal, e se mantém alto. Isto ocorre pelo fato de que em países como este (África do Sul), a diferença monetária é muito grande, onde quase todo o dinheiro (falando em ponto de vista percentual) está em uma parte muito pequena da população, muitas vezes em 1 ou menos porcento. Desta forma, a média de dinheiro per capta fica longe da realidade, não retratando de forma efetiva o que acontece em cada país. Se um gráfico de frequência com o dinheiro de cada cidadão da África do Sul pudesse ser feito, poderia ser vista uma absurda assimetria à direita. Já quando a disparidade não é tão grande, a média fica mais próxima da realidade, e o IDH é mais \"fiel\". Tal pode ser visto nos países com menor IDH, que possuem um GINI próximo dos países com maior disparidade e possuem um IDH baixo, como a hipótese inicial implica que deveria acontecer. Já nos países com muita disparidade, vistos na segunda tabela, o IDH sobe de forma brusca, validando de forma nítida a resposta que, de fato, o IDH mascara a disparidade social."
   ]
  },
  {
   "cell_type": "code",
   "execution_count": 69,
   "metadata": {},
   "outputs": [
    {
     "data": {
      "text/html": [
       "<div>\n",
       "<style scoped>\n",
       "    .dataframe tbody tr th:only-of-type {\n",
       "        vertical-align: middle;\n",
       "    }\n",
       "\n",
       "    .dataframe tbody tr th {\n",
       "        vertical-align: top;\n",
       "    }\n",
       "\n",
       "    .dataframe thead th {\n",
       "        text-align: right;\n",
       "    }\n",
       "</style>\n",
       "<table border=\"1\" class=\"dataframe\">\n",
       "  <thead>\n",
       "    <tr style=\"text-align: right;\">\n",
       "      <th></th>\n",
       "      <th>2005_IDH</th>\n",
       "      <th>2005_GINI</th>\n",
       "    </tr>\n",
       "    <tr>\n",
       "      <th>geo</th>\n",
       "      <th></th>\n",
       "      <th></th>\n",
       "    </tr>\n",
       "  </thead>\n",
       "  <tbody>\n",
       "    <tr>\n",
       "      <th>Niger</th>\n",
       "      <td>0.286</td>\n",
       "      <td>44.4</td>\n",
       "    </tr>\n",
       "    <tr>\n",
       "      <th>Rwanda</th>\n",
       "      <td>0.404</td>\n",
       "      <td>52.0</td>\n",
       "    </tr>\n",
       "    <tr>\n",
       "      <th>Senegal</th>\n",
       "      <td>0.422</td>\n",
       "      <td>39.2</td>\n",
       "    </tr>\n",
       "    <tr>\n",
       "      <th>Uganda</th>\n",
       "      <td>0.434</td>\n",
       "      <td>42.9</td>\n",
       "    </tr>\n",
       "    <tr>\n",
       "      <th>Solomon Islands</th>\n",
       "      <td>0.470</td>\n",
       "      <td>46.1</td>\n",
       "    </tr>\n",
       "  </tbody>\n",
       "</table>\n",
       "</div>"
      ],
      "text/plain": [
       "                 2005_IDH  2005_GINI\n",
       "geo                                 \n",
       "Niger               0.286       44.4\n",
       "Rwanda              0.404       52.0\n",
       "Senegal             0.422       39.2\n",
       "Uganda              0.434       42.9\n",
       "Solomon Islands     0.470       46.1"
      ]
     },
     "execution_count": 69,
     "metadata": {},
     "output_type": "execute_result"
    }
   ],
   "source": [
    "IDH_GINI.sort_values(by='2005_IDH').dropna().head()"
   ]
  },
  {
   "cell_type": "code",
   "execution_count": 70,
   "metadata": {},
   "outputs": [
    {
     "data": {
      "text/html": [
       "<div>\n",
       "<style scoped>\n",
       "    .dataframe tbody tr th:only-of-type {\n",
       "        vertical-align: middle;\n",
       "    }\n",
       "\n",
       "    .dataframe tbody tr th {\n",
       "        vertical-align: top;\n",
       "    }\n",
       "\n",
       "    .dataframe thead th {\n",
       "        text-align: right;\n",
       "    }\n",
       "</style>\n",
       "<table border=\"1\" class=\"dataframe\">\n",
       "  <thead>\n",
       "    <tr style=\"text-align: right;\">\n",
       "      <th></th>\n",
       "      <th>2005_IDH</th>\n",
       "      <th>2005_GINI</th>\n",
       "    </tr>\n",
       "    <tr>\n",
       "      <th>geo</th>\n",
       "      <th></th>\n",
       "      <th></th>\n",
       "    </tr>\n",
       "  </thead>\n",
       "  <tbody>\n",
       "    <tr>\n",
       "      <th>Panama</th>\n",
       "      <td>0.744</td>\n",
       "      <td>53.9</td>\n",
       "    </tr>\n",
       "    <tr>\n",
       "      <th>Brazil</th>\n",
       "      <td>0.698</td>\n",
       "      <td>56.3</td>\n",
       "    </tr>\n",
       "    <tr>\n",
       "      <th>Bolivia</th>\n",
       "      <td>0.625</td>\n",
       "      <td>58.5</td>\n",
       "    </tr>\n",
       "    <tr>\n",
       "      <th>Honduras</th>\n",
       "      <td>0.583</td>\n",
       "      <td>59.5</td>\n",
       "    </tr>\n",
       "    <tr>\n",
       "      <th>South Africa</th>\n",
       "      <td>0.609</td>\n",
       "      <td>64.8</td>\n",
       "    </tr>\n",
       "  </tbody>\n",
       "</table>\n",
       "</div>"
      ],
      "text/plain": [
       "              2005_IDH  2005_GINI\n",
       "geo                              \n",
       "Panama           0.744       53.9\n",
       "Brazil           0.698       56.3\n",
       "Bolivia          0.625       58.5\n",
       "Honduras         0.583       59.5\n",
       "South Africa     0.609       64.8"
      ]
     },
     "execution_count": 70,
     "metadata": {},
     "output_type": "execute_result"
    }
   ],
   "source": [
    "IDH_GINI.sort_values(by='2005_GINI').dropna().tail()"
   ]
  },
  {
   "cell_type": "markdown",
   "metadata": {},
   "source": [
    "Já olhando a questão da segurança, ela se manteve mais próxima de uma reta, como pode ser visto nos dados analisados previamente no projeto. Assim sendo, ela indica que o IDH, um medidor geral para a \"qualidade de vida\" de um país, cresce ao mesmo tempo que os assassinatos diminuem, algo que então retrata a realidade de um país de forma correta. A razão para tal ocorrência não pode ser diretamente encontrada, mas pode ser explicada por tendência de que, quando um país tem uma baixa taxa de alfabetização, baixa esperança de vida e/ou uma baixa renda (medidores do IDH), consequentemente o país tende a ser mais perigoso."
   ]
  },
  {
   "cell_type": "markdown",
   "metadata": {},
   "source": [
    "Para confirmar as respostas levantadas acima, é muito conveniente analisar um país específico ao longo dos anos, e analisar como o IDH e GINI se comportam em cada um."
   ]
  },
  {
   "cell_type": "code",
   "execution_count": 71,
   "metadata": {},
   "outputs": [
    {
     "data": {
      "text/html": [
       "<div>\n",
       "<style scoped>\n",
       "    .dataframe tbody tr th:only-of-type {\n",
       "        vertical-align: middle;\n",
       "    }\n",
       "\n",
       "    .dataframe tbody tr th {\n",
       "        vertical-align: top;\n",
       "    }\n",
       "\n",
       "    .dataframe thead th {\n",
       "        text-align: right;\n",
       "    }\n",
       "</style>\n",
       "<table border=\"1\" class=\"dataframe\">\n",
       "  <thead>\n",
       "    <tr style=\"text-align: right;\">\n",
       "      <th></th>\n",
       "      <th>1990_IDH</th>\n",
       "      <th>1990_GINI</th>\n",
       "      <th>2005_IDH</th>\n",
       "      <th>2005_GINI</th>\n",
       "    </tr>\n",
       "    <tr>\n",
       "      <th>geo</th>\n",
       "      <th></th>\n",
       "      <th></th>\n",
       "      <th></th>\n",
       "      <th></th>\n",
       "    </tr>\n",
       "  </thead>\n",
       "  <tbody>\n",
       "    <tr>\n",
       "      <th>Bolivia</th>\n",
       "      <td>0.435</td>\n",
       "      <td>42.0</td>\n",
       "      <td>0.625</td>\n",
       "      <td>58.5</td>\n",
       "    </tr>\n",
       "    <tr>\n",
       "      <th>Iran</th>\n",
       "      <td>0.572</td>\n",
       "      <td>43.6</td>\n",
       "      <td>0.692</td>\n",
       "      <td>43.6</td>\n",
       "    </tr>\n",
       "    <tr>\n",
       "      <th>Costa Rica</th>\n",
       "      <td>0.653</td>\n",
       "      <td>45.3</td>\n",
       "      <td>0.727</td>\n",
       "      <td>47.5</td>\n",
       "    </tr>\n",
       "    <tr>\n",
       "      <th>Honduras</th>\n",
       "      <td>0.507</td>\n",
       "      <td>57.4</td>\n",
       "      <td>0.583</td>\n",
       "      <td>59.5</td>\n",
       "    </tr>\n",
       "    <tr>\n",
       "      <th>Brazil</th>\n",
       "      <td>0.611</td>\n",
       "      <td>60.5</td>\n",
       "      <td>0.698</td>\n",
       "      <td>56.3</td>\n",
       "    </tr>\n",
       "  </tbody>\n",
       "</table>\n",
       "</div>"
      ],
      "text/plain": [
       "            1990_IDH  1990_GINI  2005_IDH  2005_GINI\n",
       "geo                                                 \n",
       "Bolivia        0.435       42.0     0.625       58.5\n",
       "Iran           0.572       43.6     0.692       43.6\n",
       "Costa Rica     0.653       45.3     0.727       47.5\n",
       "Honduras       0.507       57.4     0.583       59.5\n",
       "Brazil         0.611       60.5     0.698       56.3"
      ]
     },
     "execution_count": 71,
     "metadata": {},
     "output_type": "execute_result"
    }
   ],
   "source": [
    "HDI_1990 = HDI.loc[:, [\"geo\", 1990]]\n",
    "GINI_1990 = GINI.loc[:, [\"geo\", 1990]]\n",
    "HDI_1990f = HDI_1990.set_index('geo')\n",
    "GINI_1990f = GINI_1990.set_index('geo')\n",
    "IDH_GINI_1990 = HDI_1990f.join(GINI_1990f, how='inner', lsuffix='_IDH', rsuffix='_GINI')\n",
    "IDH_GINI_X = IDH_GINI_1990.join(IDH_GINI, how='inner', lsuffix='_IDH', rsuffix='_GINI')\n",
    "IDH_GINI_X.sort_values(by='1990_GINI').dropna().tail()"
   ]
  },
  {
   "cell_type": "markdown",
   "metadata": {},
   "source": [
    "Como pode ser vistos nos dados de 1990, 15 anos antes dos dados analisados, o comportamento descrito pela relação IDH e GINI se manteve, confirmando a resposta para a pergunta levantada. A Bolívia, que possui um IDH de 0.625 em 2005, tem uma disparidade social de 58.5, uma das mais altas do planeta na época. Já em 1990, quando possuia uma disparidade social mais baixa de 42, o IDH já diminuiu de forma muito considerável, caindo para 0.435. Enquanto um gráfico linear sugeriria o aumento do IDH de acordo com a queda do GINI, a conclusão baseada na interpretação analítica explica o comportamento contrário, que é exatamente o que aconteceu na ocasião. Quanto menor a disparidade, mais preciso é o cálculo do IDH, uma vez que pensando na média do PIB per capita."
   ]
  },
  {
   "cell_type": "markdown",
   "metadata": {},
   "source": [
    "Ainda assim, é importante ressaltar que a conclusão atingida pode ser utilizada para casos mais drásticos (com GINI mais alto), e então não é absoluta. Em alguns casos, como nos de Costa Rica, Honduras e Brasil, a relação IDH-GINI continuou linear, obedecendo a primeira solução imposta no gráfico inicial. Isto pode ter ocorrido devido ao fato da médias monetárias não serem de fato distorcidas, mas muito próximas da realidade e com um gráfico de frequência do PIB per capita simétrico. Além disso, a mudança do GINI pode também não ser um fator direto para a mudança do IDH, logo que, como pode ser visto nos exemplos acima, as mudanças no GINI foram muito sutis."
   ]
  }
 ],
 "metadata": {
  "kernelspec": {
   "display_name": "Python 3",
   "language": "python",
   "name": "python3"
  },
  "language_info": {
   "codemirror_mode": {
    "name": "ipython",
    "version": 3
   },
   "file_extension": ".py",
   "mimetype": "text/x-python",
   "name": "python",
   "nbconvert_exporter": "python",
   "pygments_lexer": "ipython3",
   "version": "3.6.4"
  }
 },
 "nbformat": 4,
 "nbformat_minor": 2
}
